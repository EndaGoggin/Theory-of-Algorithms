{
 "cells": [
  {
   "cell_type": "markdown",
   "id": "a921adc6",
   "metadata": {},
   "source": [
    "## What is the Post Correspondence problem?\n",
    "\n",
    "***"
   ]
  },
  {
   "cell_type": "markdown",
   "id": "dcd214c3",
   "metadata": {},
   "source": [
    "The Post correspondence problem is a problem that was first brought forward by a man named [Emil Post](https://en.wikipedia.org/wiki/Emil_Leon_Post) in 1946. It is an undecidable decision problem mainly used for proofs of undecidability."
   ]
  },
  {
   "cell_type": "markdown",
   "id": "d63ef61e",
   "metadata": {},
   "source": [
    "### How does it work?"
   ]
  },
  {
   "cell_type": "markdown",
   "id": "8add4274",
   "metadata": {},
   "source": [
    "An instance of Post correspondence problem is when you have two lists of strings that are both the same length and use the same alphabet/characters."
   ]
  },
  {
   "cell_type": "code",
   "execution_count": 3,
   "id": "115af606",
   "metadata": {},
   "outputs": [],
   "source": [
    "L1 = ['a', 'ab', 'bba']\n",
    "L2 = ['baa', 'aa', 'bb']"
   ]
  },
  {
   "cell_type": "markdown",
   "id": "21de4a06",
   "metadata": {},
   "source": [
    "`L1` and `L2` are an example of two lists compliant with the problem. They each contain 3 strings that are accesible through indices 0, 1 and 2."
   ]
  },
  {
   "cell_type": "code",
   "execution_count": 5,
   "id": "0e570790",
   "metadata": {},
   "outputs": [
    {
     "data": {
      "text/plain": [
       "'abbb'"
      ]
     },
     "execution_count": 5,
     "metadata": {},
     "output_type": "execute_result"
    }
   ],
   "source": [
    "# Example of indices\n",
    "L1[1] + L2[2]"
   ]
  },
  {
   "cell_type": "markdown",
   "id": "9d8c3234",
   "metadata": {},
   "source": [
    "If we have a list of indices that only contain 0, 1 or 2. Then we apply the same list to both `L1` and `L2`, we can see if they correspond or not."
   ]
  },
  {
   "cell_type": "code",
   "execution_count": null,
   "id": "946086e7",
   "metadata": {},
   "outputs": [],
   "source": [
    "# Example of list of indices to be applied to both strings\n",
    "S = [2, 1, 2, 0]"
   ]
  },
  {
   "cell_type": "code",
   "execution_count": null,
   "id": "159c7aac",
   "metadata": {},
   "outputs": [],
   "source": [
    "# Get each corresponding string using list S\n",
    "def apply(S, L):\n",
    "    S_on_L = [L[i] for i in S]\n",
    "    return ''.join(S_on_L)"
   ]
  },
  {
   "cell_type": "code",
   "execution_count": null,
   "id": "d93db32f",
   "metadata": {},
   "outputs": [],
   "source": [
    "# Apply S to L1\n",
    "apply(S, L1) "
   ]
  },
  {
   "cell_type": "code",
   "execution_count": null,
   "id": "e4c74339",
   "metadata": {},
   "outputs": [],
   "source": [
    "# Apply S to L2\n",
    "apply(S, L2) "
   ]
  },
  {
   "cell_type": "code",
   "execution_count": null,
   "id": "36a70b9a",
   "metadata": {},
   "outputs": [],
   "source": [
    "# Compare both functions\n",
    "apply(S, L1) == apply(S, L2) "
   ]
  },
  {
   "cell_type": "markdown",
   "id": "3f909c3c",
   "metadata": {},
   "source": [
    "This shows that there is correspondence between these two strings. This also tells us that there are infinite correspondeces between `L1` and `L2` if you repeat the list S within itself."
   ]
  },
  {
   "cell_type": "code",
   "execution_count": null,
   "id": "d8745b3a",
   "metadata": {},
   "outputs": [],
   "source": [
    "# Apply new list of indices with repeating S to L1 and L2\n",
    "apply([2, 1, 2, 0, 2, 1, 2, 0], L1) ==  apply([2, 1, 2, 0, 2, 1, 2, 0], L2)"
   ]
  },
  {
   "cell_type": "markdown",
   "id": "03eaebbb",
   "metadata": {},
   "source": [
    "<br> \n",
    "\n",
    "## No correspondence\n",
    "\n",
    "***"
   ]
  },
  {
   "cell_type": "markdown",
   "id": "244d0a0a",
   "metadata": {},
   "source": [
    "What if the two list of strings have no correspondence? What would that look like?"
   ]
  },
  {
   "cell_type": "code",
   "execution_count": 1,
   "id": "f07ee53b",
   "metadata": {},
   "outputs": [],
   "source": [
    "L1 = ['ab', 'bba']\n",
    "L2 = ['aa', 'bb']"
   ]
  },
  {
   "cell_type": "markdown",
   "id": "25f054fc",
   "metadata": {},
   "source": [
    "Here again we have `L1` and `L2`. These both have the same amount of strings in the list and use the same alphabet/characters, but can we find a list of indices (`S`) that can give us correspondence."
   ]
  },
  {
   "cell_type": "markdown",
   "id": "77e7cb9b",
   "metadata": {},
   "source": [
    "$$ (L_1,L_2) \\rightarrow \\{True, False\\} \\qquad |L_1| = |L_2| $$"
   ]
  },
  {
   "cell_type": "markdown",
   "id": "f8a03e15",
   "metadata": {},
   "source": [
    "Above shows that we need two inputs (`L1` and `L2`) that will give either True or False which shows correspondence or not. \n",
    "If we are looking for a List `S` that shows correspondence, then there can be an infinite number of possibile indice lists that we can use to compare."
   ]
  },
  {
   "cell_type": "code",
   "execution_count": 2,
   "id": "4fb3c681",
   "metadata": {},
   "outputs": [],
   "source": [
    "# Example of different Lists S\n",
    "S = [0, 1, 0, 0]\n",
    "S = [0, 0, 0, 0, ...]"
   ]
  },
  {
   "cell_type": "markdown",
   "id": "6adcb96e",
   "metadata": {},
   "source": [
    "Since there are infinite possibilities, this means that it is not possible to prove that there isn't any correspondence between the two inputted string lists."
   ]
  },
  {
   "cell_type": "markdown",
   "id": "82c6c93a",
   "metadata": {},
   "source": [
    "<br> \n",
    "\n",
    "## Bounded Post Correspondence Problem\n",
    "\n",
    "***"
   ]
  },
  {
   "cell_type": "markdown",
   "id": "4e06a427",
   "metadata": {},
   "source": [
    "There is another variant of the Post correnpondence problem that limits the length of the indice list to `K`. This makes `S` have a finite number of possibilities and therefore allows a definite answer for correspondence or not."
   ]
  },
  {
   "cell_type": "markdown",
   "id": "96af5db0-39ca-4a7f-9a1e-774e19ef6663",
   "metadata": {},
   "source": [
    "$$ |S| \\leq K \\qquad K \\in \\mathbb{N} $$"
   ]
  },
  {
   "cell_type": "markdown",
   "id": "0ed6fc0f-1d06-434b-a72a-0b40619b4b4a",
   "metadata": {},
   "source": [
    "This allows you to input and value for `K` and always have a computable solution to the original Post correspondence problem."
   ]
  },
  {
   "cell_type": "markdown",
   "id": "ef7eb6e9-8040-4514-ae0d-9dc12d545f9a",
   "metadata": {},
   "source": [
    "## Script for solving the Bounded Post Correspondense Problem\n",
    "***"
   ]
  },
  {
   "cell_type": "code",
   "execution_count": 3,
   "id": "be028c3d",
   "metadata": {},
   "outputs": [],
   "source": [
    "# Function for solving bpcp\n",
    "def bcp_solver(L1, L2, K):\n",
    "    if correspond(L1, L2, K):\n",
    "        return True\n",
    "    else:\n",
    "        return False"
   ]
  },
  {
   "cell_type": "code",
   "execution_count": 4,
   "id": "3cdcc41a",
   "metadata": {},
   "outputs": [],
   "source": [
    "# Functions creating iterators for efficient looping\n",
    "import itertools as it"
   ]
  },
  {
   "cell_type": "code",
   "execution_count": 5,
   "id": "7dce0799",
   "metadata": {},
   "outputs": [],
   "source": [
    "L3 = ['a', 'ab', 'bba']\n",
    "L4 = ['baa', 'aa', 'bb']"
   ]
  },
  {
   "cell_type": "code",
   "execution_count": 6,
   "id": "726dc86b",
   "metadata": {},
   "outputs": [],
   "source": [
    "def getAllCombinations(l, K):\n",
    "    # The generators.\n",
    "    gens = []\n",
    "\n",
    "    # Loop through all possible solutions.\n",
    "    for i in range(1, K + 1):\n",
    "        # Create a generator for solutions of length i, append it to gens.\n",
    "        for j in it.product(l, repeat = i):\n",
    "            gens.append(''.join(j)) \n",
    "            \n",
    "    return gens"
   ]
  },
  {
   "cell_type": "code",
   "execution_count": 7,
   "id": "39b69528",
   "metadata": {},
   "outputs": [],
   "source": [
    "def correspond(L3, L4, K):\n",
    "    cnt = 0\n",
    "    # Loop through both lists and check for match at the same index\n",
    "    for i in getAllCombinations(L3, K):\n",
    "        if i == getAllCombinations(L4, K)[cnt]:\n",
    "            print(\"L3 = \" + i + \" L4 = \" + getAllCombinations(L4, K)[cnt])\n",
    "            # Match is found so return true\n",
    "            return True\n",
    "        cnt += 1\n",
    "    # If no match is found return false\n",
    "    return False"
   ]
  },
  {
   "cell_type": "code",
   "execution_count": 8,
   "id": "8daf027c",
   "metadata": {},
   "outputs": [
    {
     "name": "stdout",
     "output_type": "stream",
     "text": [
      "L3 = bbaabbbaa L4 = bbaabbbaa\n"
     ]
    },
    {
     "data": {
      "text/plain": [
       "True"
      ]
     },
     "execution_count": 8,
     "metadata": {},
     "output_type": "execute_result"
    }
   ],
   "source": [
    "bcp_solver(L3, L4, 4)"
   ]
  },
  {
   "cell_type": "markdown",
   "id": "a3853bbd",
   "metadata": {},
   "source": [
    "This script takes in two lists of strings and checks for correspondence with `S` having a max length of `K`. We see above that if the max length is 4, then there is correspondence between the two strings."
   ]
  },
  {
   "cell_type": "code",
   "execution_count": 9,
   "id": "17467bde",
   "metadata": {},
   "outputs": [
    {
     "data": {
      "text/plain": [
       "False"
      ]
     },
     "execution_count": 9,
     "metadata": {},
     "output_type": "execute_result"
    }
   ],
   "source": [
    "bcp_solver(L3, L4, 3)"
   ]
  },
  {
   "cell_type": "markdown",
   "id": "7861c392-4031-4159-bbeb-bdb8543eaeb0",
   "metadata": {},
   "source": [
    "If we then try to input any `K` value lower than 4 it will return false."
   ]
  },
  {
   "cell_type": "code",
   "execution_count": null,
   "id": "eb892b11",
   "metadata": {},
   "outputs": [],
   "source": []
  },
  {
   "cell_type": "code",
   "execution_count": null,
   "id": "669fc707",
   "metadata": {},
   "outputs": [],
   "source": []
  },
  {
   "cell_type": "code",
   "execution_count": null,
   "id": "64ba3209",
   "metadata": {},
   "outputs": [],
   "source": []
  },
  {
   "cell_type": "code",
   "execution_count": null,
   "id": "8fae3175",
   "metadata": {},
   "outputs": [],
   "source": []
  }
 ],
 "metadata": {
  "kernelspec": {
   "display_name": "Python 3",
   "language": "python",
   "name": "python3"
  },
  "language_info": {
   "codemirror_mode": {
    "name": "ipython",
    "version": 3
   },
   "file_extension": ".py",
   "mimetype": "text/x-python",
   "name": "python",
   "nbconvert_exporter": "python",
   "pygments_lexer": "ipython3",
   "version": "3.8.8"
  }
 },
 "nbformat": 4,
 "nbformat_minor": 5
}
