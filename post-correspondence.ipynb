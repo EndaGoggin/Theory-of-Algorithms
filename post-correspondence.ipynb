{
 "cells": [
  {
   "cell_type": "markdown",
   "id": "a921adc6",
   "metadata": {},
   "source": [
    "## What is the Post Correspondence problem?\n",
    "\n",
    "***"
   ]
  },
  {
   "cell_type": "markdown",
   "id": "dcd214c3",
   "metadata": {},
   "source": [
    "The Post correspondence problem is a problem that was first brought forward by a man named [Emil Post](https://en.wikipedia.org/wiki/Emil_Leon_Post) in 1946. It is an undecidable decision problem mainly used for proofs of undecidability."
   ]
  },
  {
   "cell_type": "markdown",
   "id": "d63ef61e",
   "metadata": {},
   "source": [
    "### How does it work?"
   ]
  },
  {
   "cell_type": "markdown",
   "id": "8add4274",
   "metadata": {},
   "source": [
    "An instance of Post correspondence problem is when you have two lists of strings that are both the same length and use the same alphabet/characters."
   ]
  },
  {
   "cell_type": "code",
   "execution_count": 3,
   "id": "115af606",
   "metadata": {},
   "outputs": [],
   "source": [
    "L1 = ['a', 'ab', 'bba']\n",
    "L2 = ['baa', 'aa', 'bb']"
   ]
  },
  {
   "cell_type": "markdown",
   "id": "21de4a06",
   "metadata": {},
   "source": [
    "`L1` and `L2` are an example of two lists compliant with the problem. They each contain 3 strings that are accesible through indices 0, 1 and 2."
   ]
  },
  {
   "cell_type": "code",
   "execution_count": 5,
   "id": "0e570790",
   "metadata": {},
   "outputs": [
    {
     "data": {
      "text/plain": [
       "'abbb'"
      ]
     },
     "execution_count": 5,
     "metadata": {},
     "output_type": "execute_result"
    }
   ],
   "source": [
    "# Example of indices\n",
    "L1[1] + L2[2]"
   ]
  },
  {
   "cell_type": "markdown",
   "id": "9d8c3234",
   "metadata": {},
   "source": [
    "If we have a list of indices that only contain 0, 1 or 2. Then we apply the same list to both `L1` and `L2`, we can see if they correspond or not."
   ]
  },
  {
   "cell_type": "code",
   "execution_count": null,
   "id": "946086e7",
   "metadata": {},
   "outputs": [],
   "source": [
    "# Example of list of indices to be applied to both strings\n",
    "S = [2, 1, 2, 0]"
   ]
  },
  {
   "cell_type": "code",
   "execution_count": null,
   "id": "159c7aac",
   "metadata": {},
   "outputs": [],
   "source": [
    "# Get each corresponding string using list S\n",
    "def apply(S, L):\n",
    "    S_on_L = [L[i] for i in S]\n",
    "    return ''.join(S_on_L)"
   ]
  },
  {
   "cell_type": "code",
   "execution_count": null,
   "id": "d93db32f",
   "metadata": {},
   "outputs": [],
   "source": [
    "# Apply S to L1\n",
    "apply(S, L1) "
   ]
  },
  {
   "cell_type": "code",
   "execution_count": null,
   "id": "e4c74339",
   "metadata": {},
   "outputs": [],
   "source": [
    "# Apply S to L2\n",
    "apply(S, L2) "
   ]
  },
  {
   "cell_type": "code",
   "execution_count": null,
   "id": "36a70b9a",
   "metadata": {},
   "outputs": [],
   "source": [
    "# Compare both functions\n",
    "apply(S, L1) == apply(S, L2) "
   ]
  },
  {
   "cell_type": "markdown",
   "id": "3f909c3c",
   "metadata": {},
   "source": [
    "This shows that there is correspondence between these two strings. This also tells us that there are infinite correspondeces between `L1` and `L2` if you repeat the list S within itself."
   ]
  },
  {
   "cell_type": "code",
   "execution_count": null,
   "id": "d8745b3a",
   "metadata": {},
   "outputs": [],
   "source": [
    "# Apply new list of indices with repeating S to L1 and L2\n",
    "apply([2, 1, 2, 0, 2, 1, 2, 0], L1) ==  apply([2, 1, 2, 0, 2, 1, 2, 0], L2)"
   ]
  },
  {
   "cell_type": "code",
   "execution_count": null,
   "id": "fd1ad298",
   "metadata": {},
   "outputs": [],
   "source": []
  },
  {
   "cell_type": "code",
   "execution_count": null,
   "id": "85bc780d",
   "metadata": {},
   "outputs": [],
   "source": []
  },
  {
   "cell_type": "code",
   "execution_count": null,
   "id": "f07ee53b",
   "metadata": {},
   "outputs": [],
   "source": []
  },
  {
   "cell_type": "code",
   "execution_count": null,
   "id": "31b60d4e",
   "metadata": {},
   "outputs": [],
   "source": []
  },
  {
   "cell_type": "code",
   "execution_count": null,
   "id": "31d4eeb9",
   "metadata": {},
   "outputs": [],
   "source": []
  }
 ],
 "metadata": {
  "kernelspec": {
   "display_name": "Python 3",
   "language": "python",
   "name": "python3"
  },
  "language_info": {
   "codemirror_mode": {
    "name": "ipython",
    "version": 3
   },
   "file_extension": ".py",
   "mimetype": "text/x-python",
   "name": "python",
   "nbconvert_exporter": "python",
   "pygments_lexer": "ipython3",
   "version": "3.8.8"
  }
 },
 "nbformat": 4,
 "nbformat_minor": 5
}
