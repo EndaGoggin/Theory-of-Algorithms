{
 "cells": [
  {
   "cell_type": "markdown",
   "id": "20a73f33",
   "metadata": {},
   "source": [
    "## Countdown Numbers Game\n",
    "\n",
    "***"
   ]
  },
  {
   "cell_type": "markdown",
   "id": "b95f9fa4",
   "metadata": {},
   "source": [
    "### What is it?"
   ]
  },
  {
   "cell_type": "markdown",
   "id": "5f9f2a0c",
   "metadata": {},
   "source": [
    "The countdown numbers game originates from a British game show that was first released in 1982. It is a section of the show where two contestants compete to reach a random target number by using 6 other numbers to create an equation that completes to the target number."
   ]
  },
  {
   "cell_type": "markdown",
   "id": "c6f75923",
   "metadata": {},
   "source": [
    "### How to play"
   ]
  },
  {
   "cell_type": "markdown",
   "id": "c79a04d4",
   "metadata": {},
   "source": [
    "One of the contestants must choose 6 numbers from two seperate lots of numbers. These are organised into Small numbers and Large numbers. The small numbers pool ranges from 1 to 10, and the large numbers pool contains 25, 50, 75 and 100. The contestant first picks how many large numbers to use. They can decide to use none of them, all of them, or a subset of them. The rest of the six numbers are then filled with the smaller numbers.\n",
    "    After the numbers are chosen, a target number is then generated for the contestants to arrive at using any combination of the 6 numbers with operators addition, subtraction, multiplication and division. They have 30 seconds to get the target number or get as close as they can to it.\n",
    "    If they get the target number exactly they score 10 points, if it is within 1-5 numbers away they get 7 points, if it is 6-10 numbers away they get 5 points and if it is further than 10 they get no points."
   ]
  },
  {
   "cell_type": "markdown",
   "id": "0bf2d486",
   "metadata": {},
   "source": [
    "### Countdown Numbers Game in Python\n",
    "***"
   ]
  },
  {
   "cell_type": "markdown",
   "id": "eb2a54ce",
   "metadata": {},
   "source": [
    "### Initial setup for list of numbers\n",
    "This will get a list of numbers to be used for the game, along with a target number to hit."
   ]
  },
  {
   "cell_type": "code",
   "execution_count": 2,
   "id": "f80ea49c",
   "metadata": {},
   "outputs": [],
   "source": [
    "# Permutations and combinations.\n",
    "import itertools as it\n",
    "# Random number generation.\n",
    "import random\n",
    "# Operators as functions.\n",
    "import operator"
   ]
  },
  {
   "cell_type": "code",
   "execution_count": 5,
   "id": "51b79b16",
   "metadata": {},
   "outputs": [],
   "source": [
    "def initialise_numbers(num_large=None):\n",
    "  \"\"\" \n",
    "  Returns six numbers and a target number representing a Countdown numbers game.\n",
    "  \"\"\"\n",
    "  # If num_large is None then get a random number from 0-4\n",
    "  if num_large is None:\n",
    "    # Get number of large numbers from 0-4\n",
    "    num_large = random.randrange(0, 5)\n",
    "  \n",
    "  # Select random large numbers.\n",
    "  large_list = random.sample([25, 50, 75, 100], num_large)\n",
    "  # Select random small numbers.\n",
    "  small_list = random.sample(list(range(1, 11)) * 2, 6 - num_large)\n",
    "  # The playing numbers.\n",
    "  play_nos = large_list + small_list\n",
    "\n",
    "  # Select a target number.\n",
    "  target = random.randrange(101, 1000)\n",
    "\n",
    "  # Return the game.\n",
    "  return play_nums, target"
   ]
  },
  {
   "cell_type": "code",
   "execution_count": 6,
   "id": "20ba8b9e",
   "metadata": {},
   "outputs": [
    {
     "ename": "NameError",
     "evalue": "name 'play_nums' is not defined",
     "output_type": "error",
     "traceback": [
      "\u001b[1;31m---------------------------------------------------------------------------\u001b[0m",
      "\u001b[1;31mNameError\u001b[0m                                 Traceback (most recent call last)",
      "\u001b[1;32m<ipython-input-6-f431a0f58e8c>\u001b[0m in \u001b[0;36m<module>\u001b[1;34m\u001b[0m\n\u001b[1;32m----> 1\u001b[1;33m \u001b[0minitialise_numbers\u001b[0m\u001b[1;33m(\u001b[0m\u001b[1;33m)\u001b[0m\u001b[1;33m\u001b[0m\u001b[1;33m\u001b[0m\u001b[0m\n\u001b[0m",
      "\u001b[1;32m<ipython-input-5-e8c9eb5a66fb>\u001b[0m in \u001b[0;36minitialise_numbers\u001b[1;34m(num_large)\u001b[0m\n\u001b[0;32m     19\u001b[0m \u001b[1;33m\u001b[0m\u001b[0m\n\u001b[0;32m     20\u001b[0m   \u001b[1;31m# Return the game.\u001b[0m\u001b[1;33m\u001b[0m\u001b[1;33m\u001b[0m\u001b[1;33m\u001b[0m\u001b[0m\n\u001b[1;32m---> 21\u001b[1;33m   \u001b[1;32mreturn\u001b[0m \u001b[0mplay_nums\u001b[0m\u001b[1;33m,\u001b[0m \u001b[0mtarget\u001b[0m\u001b[1;33m\u001b[0m\u001b[1;33m\u001b[0m\u001b[0m\n\u001b[0m",
      "\u001b[1;31mNameError\u001b[0m: name 'play_nums' is not defined"
     ]
    }
   ],
   "source": [
    "initialise_numbers()"
   ]
  },
  {
   "cell_type": "code",
   "execution_count": null,
   "id": "f3027836",
   "metadata": {},
   "outputs": [],
   "source": []
  }
 ],
 "metadata": {
  "kernelspec": {
   "display_name": "Python 3",
   "language": "python",
   "name": "python3"
  },
  "language_info": {
   "codemirror_mode": {
    "name": "ipython",
    "version": 3
   },
   "file_extension": ".py",
   "mimetype": "text/x-python",
   "name": "python",
   "nbconvert_exporter": "python",
   "pygments_lexer": "ipython3",
   "version": "3.8.8"
  }
 },
 "nbformat": 4,
 "nbformat_minor": 5
}
