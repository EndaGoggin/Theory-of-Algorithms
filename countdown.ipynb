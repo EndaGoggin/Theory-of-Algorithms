{
 "cells": [
  {
   "cell_type": "markdown",
   "id": "8349dc14",
   "metadata": {},
   "source": [
    "## Countdown Numbers Game\n",
    "\n",
    "***"
   ]
  },
  {
   "cell_type": "markdown",
   "id": "1697c7d2",
   "metadata": {},
   "source": [
    "### What is it?"
   ]
  },
  {
   "cell_type": "markdown",
   "id": "77118573",
   "metadata": {},
   "source": [
    "The countdown numbers game originates from a British game show that was first released in 1982. It is a section of the show where two contestants compete to reach a random target number by using 6 other numbers to create an equation that completes to the target number."
   ]
  },
  {
   "cell_type": "markdown",
   "id": "281eab50",
   "metadata": {},
   "source": [
    "### How to play"
   ]
  },
  {
   "cell_type": "markdown",
   "id": "bd046f65",
   "metadata": {},
   "source": [
    "One of the contestants must choose 6 numbers from two seperate lots of numbers. These are organised into Small numbers and Large numbers. The small numbers pool ranges from 1 to 10, and the large numbers pool contains 25, 50, 75 and 100. The contestant first picks how many large numbers to use. They can decide to use none of them, all of them, or a subset of them. The rest of the six numbers are then filled with the smaller numbers.\n",
    "    After the numbers are chosen, a target number is then generated for the contestants to arrive at using any combination of the 6 numbers with operators addition, subtraction, multiplication and division. They have 30 seconds to get the target number or get as close as they can to it.\n",
    "    If they get the target number exactly they score 10 points, if it is within 1-5 numbers away they get 7 points, if it is 6-10 numbers away they get 5 points and if it is further than 10 they get no points."
   ]
  },
  {
   "cell_type": "code",
   "execution_count": null,
   "id": "47c02014",
   "metadata": {},
   "outputs": [],
   "source": []
  }
 ],
 "metadata": {
  "kernelspec": {
   "display_name": "Python 3",
   "language": "python",
   "name": "python3"
  },
  "language_info": {
   "codemirror_mode": {
    "name": "ipython",
    "version": 3
   },
   "file_extension": ".py",
   "mimetype": "text/x-python",
   "name": "python",
   "nbconvert_exporter": "python",
   "pygments_lexer": "ipython3",
   "version": "3.8.8"
  }
 },
 "nbformat": 4,
 "nbformat_minor": 5
}
