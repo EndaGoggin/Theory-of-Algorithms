{
 "cells": [
  {
   "cell_type": "markdown",
   "id": "cc1ac9ed",
   "metadata": {},
   "source": [
    "## Countdown Numbers Game\n",
    "\n",
    "***"
   ]
  },
  {
   "cell_type": "markdown",
   "id": "aed1987a",
   "metadata": {},
   "source": [
    "### What is it?"
   ]
  },
  {
   "cell_type": "markdown",
   "id": "c62b442e",
   "metadata": {},
   "source": [
    "The countdown numbers game originates from a British game show that was first released in 1982. It is a section of the show where two contestants compete to reach a random target number by using 6 other numbers to create an equation that completes to the target number."
   ]
  },
  {
   "cell_type": "markdown",
   "id": "2b704681",
   "metadata": {},
   "source": [
    "### How to play"
   ]
  },
  {
   "cell_type": "markdown",
   "id": "9883140d",
   "metadata": {},
   "source": [
    "One of the contestants must choose 6 numbers from two seperate lots of numbers. These are organised into Small numbers and Large numbers. The small numbers pool ranges from 1 to 10, and the large numbers pool contains 25, 50, 75 and 100. The contestant first picks how many large numbers to use. They can decide to use none of them, all of them, or a subset of them. The rest of the six numbers are then filled with the smaller numbers.\n",
    "    After the numbers are chosen, a target number is then generated for the contestants to arrive at using any combination of the 6 numbers with operators addition, subtraction, multiplication and division. They have 30 seconds to get the target number or get as close as they can to it.\n",
    "    If they get the target number exactly they score 10 points, if it is within 1-5 numbers away they get 7 points, if it is 6-10 numbers away they get 5 points and if it is further than 10 they get no points."
   ]
  },
  {
   "cell_type": "markdown",
   "id": "cf8a5ed5",
   "metadata": {},
   "source": [
    "### Countdown Numbers Game in Python\n",
    "***"
   ]
  },
  {
   "cell_type": "markdown",
   "id": "62aeeb05",
   "metadata": {},
   "source": [
    "### Initial setup for list of numbers\n",
    "This will get a list of numbers to be used for the game, along with a target number to hit."
   ]
  },
  {
   "cell_type": "code",
   "execution_count": 1,
   "id": "e052b8d3",
   "metadata": {},
   "outputs": [],
   "source": [
    "# Permutations and combinations.\n",
    "import itertools as it\n",
    "# Random number generation.\n",
    "import random\n",
    "# Operators as functions.\n",
    "import operator"
   ]
  },
  {
   "cell_type": "code",
   "execution_count": 2,
   "id": "58701da6",
   "metadata": {},
   "outputs": [],
   "source": [
    "def initialise_numbers(num_large=None):\n",
    "  \"\"\" \n",
    "  Returns six numbers and a target number representing a Countdown numbers game.\n",
    "  \"\"\"\n",
    "  # If num_large is None then get a random number from 0-4\n",
    "  if num_large is None:\n",
    "    # Get number of large numbers from 0-4\n",
    "    num_large = random.randrange(0, 5)\n",
    "  \n",
    "  # Select random large numbers.\n",
    "  large_list = random.sample([25, 50, 75, 100], num_large)\n",
    "  # Select random small numbers.\n",
    "  small_list = random.sample(list(range(1, 11)) * 2, 6 - num_large)\n",
    "  # The playing numbers.\n",
    "  play_nums = large_list + small_list\n",
    "\n",
    "  # Select a target number.\n",
    "  target = random.randrange(101, 1000)\n",
    "\n",
    "  # Return the game.\n",
    "  return play_nums, target"
   ]
  },
  {
   "cell_type": "markdown",
   "id": "385e77c4",
   "metadata": {},
   "source": [
    "### Solving The Game"
   ]
  },
  {
   "cell_type": "code",
   "execution_count": 168,
   "id": "ba2e015b",
   "metadata": {},
   "outputs": [],
   "source": [
    "# Evaluate RPN expression.\n",
    "def eval_rpn(rpn):\n",
    "    # A stack.\n",
    "    stack = []\n",
    "    # Loop through rpn an item at a time.\n",
    "    for i in rpn:\n",
    "        # Check if it's a number.\n",
    "        if isinstance(i, int):\n",
    "            # Append to the stack.\n",
    "            stack = stack + [i]\n",
    "        else:\n",
    "            # Pop from stack twice.\n",
    "            right = stack[-1]\n",
    "            stack = stack[:-1]\n",
    "            left = stack[-1]\n",
    "            stack = stack[:-1]\n",
    "            # Push operator applied to stack elements.\n",
    "            # Catch divided by zero error\n",
    "            try:\n",
    "                stack = stack + [i(left, right)] \n",
    "            except:\n",
    "                stack = stack + [0]\n",
    "                pass\n",
    "            \n",
    "    # Should only be one item on stack.\n",
    "    return stack[0]"
   ]
  },
  {
   "cell_type": "code",
   "execution_count": 169,
   "id": "3150955a",
   "metadata": {},
   "outputs": [],
   "source": [
    "# Give all 2-partitions of a list\n",
    "# where each sublist has  one element.\n",
    "def patterns(numbers, operators):\n",
    "  # Check if there is no way to partition further.\n",
    "  if len(numbers) == 1:\n",
    "    yield numbers\n",
    "  # Loop through all the ways to partition L into two non-empty sublists.\n",
    "  for i in range(1, len(numbers)):\n",
    "    # Slice the list using i.\n",
    "    for left, right in it.product(patterns(numbers[:i], operators[1:i]), patterns(numbers[i:], operators[i:])):\n",
    "      # Yield the next operator applied to the sublists.\n",
    "      yield [*left, *right, operators[0]]"
   ]
  },
  {
   "cell_type": "code",
   "execution_count": 179,
   "id": "85b8a0ef",
   "metadata": {},
   "outputs": [],
   "source": [
    "#for i in patterns(numbers, operators):\n",
    "def game_solver(num_list):\n",
    "    # Initialise list and target\n",
    "    numbers, target_num = num_list\n",
    "    # Print game numbers and target\n",
    "    print(\"Game Numbers - \", numbers)\n",
    "    print(\"Target Number = \", target_num)\n",
    "    # Operators.\n",
    "    operators = {operator.add: \"+\",operator.sub:  \"-\",operator.mul: \"*\" ,operator.truediv: \"/\"}\n",
    "    # Loop through all combinations of operators\n",
    "    for subset in it.product(operators, repeat = 5):\n",
    "        # Loop through partitions\n",
    "        for i in patterns(numbers, subset):\n",
    "            # Convert to rpn then check if target is hit\n",
    "            if(eval_rpn(i) == target_num):\n",
    "                print(\"Answer = \", int(eval_rpn(i)))\n",
    "                return i\n",
    "            \n",
    "    print(\"Problem not solvable\")\n",
    "           "
   ]
  },
  {
   "cell_type": "code",
   "execution_count": 184,
   "id": "e3670577",
   "metadata": {},
   "outputs": [
    {
     "name": "stdout",
     "output_type": "stream",
     "text": [
      "Game Numbers -  [3, 2, 3, 9, 10, 5]\n",
      "Target Number =  875\n",
      "Answer =  875\n"
     ]
    },
    {
     "data": {
      "text/plain": [
       "[3,\n",
       " 2,\n",
       " 3,\n",
       " 9,\n",
       " <function _operator.mul(a, b, /)>,\n",
       " <function _operator.add(a, b, /)>,\n",
       " 10,\n",
       " <function _operator.mul(a, b, /)>,\n",
       " <function _operator.mul(a, b, /)>,\n",
       " 5,\n",
       " <function _operator.add(a, b, /)>]"
      ]
     },
     "execution_count": 184,
     "metadata": {},
     "output_type": "execute_result"
    }
   ],
   "source": [
    "game_solver(initialise_numbers())"
   ]
  },
  {
   "cell_type": "markdown",
   "id": "4724acdf",
   "metadata": {},
   "source": []
  },
  {
   "cell_type": "markdown",
   "id": "7da55bff",
   "metadata": {},
   "source": [
    "# Functional Programming\n",
    "***"
   ]
  },
  {
   "cell_type": "markdown",
   "id": "66d64145",
   "metadata": {},
   "source": [
    "Fucntional programming is when a program is split into functions that give an output based on only its inputs. This avoids reliance on factors outside of the program to run, for example, using external data like file reading.\n",
    "\n",
    "The above code has no side effects apart from the print statements at the end. The output from the print is a side effect of it being called."
   ]
  },
  {
   "cell_type": "markdown",
   "id": "bf4c3c49",
   "metadata": {},
   "source": [
    "# References\n",
    "***"
   ]
  },
  {
   "cell_type": "markdown",
   "id": "f2bf1eb0",
   "metadata": {},
   "source": [
    "### Countdown\n",
    "https://en.wikipedia.org/wiki/Countdown_(game_show)#Numbers_round"
   ]
  },
  {
   "cell_type": "markdown",
   "id": "35eddccd",
   "metadata": {},
   "source": [
    "### Dividing by zero fix\n",
    "https://stackoverflow.com/questions/18994334/make-python-code-continue-after-exception"
   ]
  },
  {
   "cell_type": "markdown",
   "id": "98c1894c",
   "metadata": {},
   "source": [
    "### Itertools\n",
    "https://docs.python.org/3/library/itertools.html"
   ]
  }
 ],
 "metadata": {
  "kernelspec": {
   "display_name": "Python 3",
   "language": "python",
   "name": "python3"
  },
  "language_info": {
   "codemirror_mode": {
    "name": "ipython",
    "version": 3
   },
   "file_extension": ".py",
   "mimetype": "text/x-python",
   "name": "python",
   "nbconvert_exporter": "python",
   "pygments_lexer": "ipython3",
   "version": "3.8.8"
  }
 },
 "nbformat": 4,
 "nbformat_minor": 5
}
